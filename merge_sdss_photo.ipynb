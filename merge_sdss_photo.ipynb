{
 "cells": [
  {
   "cell_type": "code",
   "execution_count": 16,
   "metadata": {},
   "outputs": [],
   "source": [
    "import numpy as np\n",
    "import pandas as pd\n",
    "import os"
   ]
  },
  {
   "cell_type": "code",
   "execution_count": 17,
   "metadata": {},
   "outputs": [],
   "source": [
    "def getListOfFiles(dirName):\n",
    "    # create a list of file and sub directories \n",
    "    # names in the given directory \n",
    "    listOfFile = os.listdir(dirName)\n",
    "    allFiles = list()\n",
    "    # Iterate over all the entries\n",
    "    for entry in listOfFile:\n",
    "        # Create full path\n",
    "        fullPath = os.path.join(dirName, entry)\n",
    "        # If entry is a directory then get the list of files in this directory \n",
    "        if os.path.isdir(fullPath):\n",
    "            allFiles = allFiles + getListOfFiles(fullPath)\n",
    "        else:\n",
    "            allFiles.append(fullPath)                \n",
    "    return allFiles"
   ]
  },
  {
   "cell_type": "markdown",
   "metadata": {},
   "source": [
    "Объединяем все фотометрические данные в один dataframe"
   ]
  },
  {
   "cell_type": "code",
   "execution_count": 18,
   "metadata": {},
   "outputs": [],
   "source": [
    "phot_gals = getListOfFiles('./phot_sdss_grps')\n",
    "df = pd.DataFrame()\n",
    "for gal in phot_gals:\n",
    "    t = pd.read_csv(gal)\n",
    "    t['iGrID']=gal[:-4].split('_')[-1]\n",
    "    df = pd.concat([t, df]).reset_index(drop=True)"
   ]
  },
  {
   "cell_type": "markdown",
   "metadata": {},
   "source": [
    "Добавляем новую колонку с цветом галактик"
   ]
  },
  {
   "cell_type": "code",
   "execution_count": 19,
   "metadata": {},
   "outputs": [],
   "source": [
    "df['|dered_g-dered_r|']=np.abs(df['dered_g']-df['dered_r'])"
   ]
  },
  {
   "cell_type": "markdown",
   "metadata": {},
   "source": [
    "Загрузим таблицу, с данными с каталога SDSS с группами, у которых количество галактик > 70"
   ]
  },
  {
   "cell_type": "code",
   "execution_count": 20,
   "metadata": {},
   "outputs": [],
   "source": [
    "g_list_s = pd.read_csv('./glist_s_70.csv')\n",
    "g_list_s.rename(columns={g_list_s.columns[3]:'objid'}, inplace=True)"
   ]
  },
  {
   "cell_type": "markdown",
   "metadata": {},
   "source": [
    "Сделаем таблицу с галактиками, у которых есть и фотометрические данные и красные смещения"
   ]
  },
  {
   "cell_type": "code",
   "execution_count": 21,
   "metadata": {},
   "outputs": [],
   "source": [
    "g_list = pd.merge(g_list_s, df, on='objid', how='left',suffixes=('_s','_photo'))\n",
    "g_l = g_list[pd.notnull(g_list['|dered_g-dered_r|'])]"
   ]
  },
  {
   "cell_type": "code",
   "execution_count": 27,
   "metadata": {},
   "outputs": [],
   "source": [
    "list_z_photo = g_l[['objid', 'ra', 'dec','z_gal','|dered_g-dered_r|','iGrID_photo']]\n",
    "list_z_photo.rename(columns={list_z_photo.columns[5]:'iGrID'}, inplace=True)"
   ]
  },
  {
   "cell_type": "code",
   "execution_count": 28,
   "metadata": {},
   "outputs": [
    {
     "data": {
      "text/html": [
       "<div>\n",
       "<style scoped>\n",
       "    .dataframe tbody tr th:only-of-type {\n",
       "        vertical-align: middle;\n",
       "    }\n",
       "\n",
       "    .dataframe tbody tr th {\n",
       "        vertical-align: top;\n",
       "    }\n",
       "\n",
       "    .dataframe thead th {\n",
       "        text-align: right;\n",
       "    }\n",
       "</style>\n",
       "<table border=\"1\" class=\"dataframe\">\n",
       "  <thead>\n",
       "    <tr style=\"text-align: right;\">\n",
       "      <th></th>\n",
       "      <th>objid</th>\n",
       "      <th>ra</th>\n",
       "      <th>dec</th>\n",
       "      <th>z_gal</th>\n",
       "      <th>|dered_g-dered_r|</th>\n",
       "      <th>iGrID</th>\n",
       "    </tr>\n",
       "  </thead>\n",
       "  <tbody>\n",
       "    <tr>\n",
       "      <td>0</td>\n",
       "      <td>1237650370488762520</td>\n",
       "      <td>195.544557</td>\n",
       "      <td>-2.495210</td>\n",
       "      <td>0.087696</td>\n",
       "      <td>0.88330</td>\n",
       "      <td>211</td>\n",
       "    </tr>\n",
       "    <tr>\n",
       "      <td>9</td>\n",
       "      <td>1237650370488828045</td>\n",
       "      <td>195.704581</td>\n",
       "      <td>-2.510970</td>\n",
       "      <td>0.086480</td>\n",
       "      <td>0.89793</td>\n",
       "      <td>211</td>\n",
       "    </tr>\n",
       "    <tr>\n",
       "      <td>12</td>\n",
       "      <td>1237650370488762557</td>\n",
       "      <td>195.589523</td>\n",
       "      <td>-2.501693</td>\n",
       "      <td>0.080822</td>\n",
       "      <td>0.88170</td>\n",
       "      <td>211</td>\n",
       "    </tr>\n",
       "    <tr>\n",
       "      <td>13</td>\n",
       "      <td>1237650370488762524</td>\n",
       "      <td>195.547180</td>\n",
       "      <td>-2.526123</td>\n",
       "      <td>0.085518</td>\n",
       "      <td>0.59039</td>\n",
       "      <td>211</td>\n",
       "    </tr>\n",
       "    <tr>\n",
       "      <td>15</td>\n",
       "      <td>1237650370488828042</td>\n",
       "      <td>195.720356</td>\n",
       "      <td>-2.520542</td>\n",
       "      <td>0.082964</td>\n",
       "      <td>0.91098</td>\n",
       "      <td>211</td>\n",
       "    </tr>\n",
       "  </tbody>\n",
       "</table>\n",
       "</div>"
      ],
      "text/plain": [
       "                  objid          ra       dec     z_gal  |dered_g-dered_r|  \\\n",
       "0   1237650370488762520  195.544557 -2.495210  0.087696            0.88330   \n",
       "9   1237650370488828045  195.704581 -2.510970  0.086480            0.89793   \n",
       "12  1237650370488762557  195.589523 -2.501693  0.080822            0.88170   \n",
       "13  1237650370488762524  195.547180 -2.526123  0.085518            0.59039   \n",
       "15  1237650370488828042  195.720356 -2.520542  0.082964            0.91098   \n",
       "\n",
       "   iGrID  \n",
       "0    211  \n",
       "9    211  \n",
       "12   211  \n",
       "13   211  \n",
       "15   211  "
      ]
     },
     "execution_count": 28,
     "metadata": {},
     "output_type": "execute_result"
    }
   ],
   "source": [
    "list_z_photo.head()"
   ]
  },
  {
   "cell_type": "code",
   "execution_count": null,
   "metadata": {},
   "outputs": [],
   "source": []
  },
  {
   "cell_type": "code",
   "execution_count": null,
   "metadata": {},
   "outputs": [],
   "source": []
  }
 ],
 "metadata": {
  "kernelspec": {
   "display_name": "Python 3",
   "language": "python",
   "name": "python3"
  },
  "language_info": {
   "codemirror_mode": {
    "name": "ipython",
    "version": 3
   },
   "file_extension": ".py",
   "mimetype": "text/x-python",
   "name": "python",
   "nbconvert_exporter": "python",
   "pygments_lexer": "ipython3",
   "version": "3.7.1"
  }
 },
 "nbformat": 4,
 "nbformat_minor": 2
}
