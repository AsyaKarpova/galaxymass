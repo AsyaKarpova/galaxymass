{
 "cells": [
  {
   "cell_type": "code",
   "execution_count": 1,
   "metadata": {},
   "outputs": [],
   "source": [
    "import numpy as np\n",
    "import pandas as pd\n",
    "import os\n",
    "from sklearn import cluster, mixture, metrics\n",
    "from sklearn.neighbors import kneighbors_graph,KNeighborsClassifier\n",
    "import warnings\n",
    "from sklearn.model_selection import train_test_split"
   ]
  },
  {
   "cell_type": "markdown",
   "metadata": {},
   "source": [
    "Загружаем данные с фотометрическими данными"
   ]
  },
  {
   "cell_type": "code",
   "execution_count": 2,
   "metadata": {},
   "outputs": [],
   "source": [
    "path = '/home/bulat/data/'\n",
    "import time\n",
    "_start_time = time.time()\n",
    "train = pd.read_csv(path+'all_phot_gals.csv')\n",
    "train['|dered_g-dered_r|'] = np.abs(train['dered_g']-train['dered_r'])\n",
    "labels = train.iGrId\n",
    "train_X = train[['ra','dec','|dered_g-dered_r|']]"
   ]
  },
  {
   "cell_type": "code",
   "execution_count": 3,
   "metadata": {},
   "outputs": [],
   "source": [
    "bandwidth = cluster.estimate_bandwidth(train_X,quantile=0.006)\n",
    "ms = cluster.MeanShift(bandwidth=bandwidth, bin_seeding=True)\n",
    "two_means = cluster.MiniBatchKMeans(n_clusters=107)\n",
    "birch = cluster.Birch(n_clusters=107)\n",
    "gmm = mixture.GaussianMixture(n_components=107, covariance_type='full')\n",
    "clustering_algorithms = (\n",
    "        ('MiniBatchKMeans', two_means),\n",
    "        ('MeanShift', ms),\n",
    "        ('Birch', birch),\n",
    "        ('GaussianMixture', gmm)\n",
    "    )"
   ]
  },
  {
   "cell_type": "code",
   "execution_count": 4,
   "metadata": {},
   "outputs": [
    {
     "name": "stdout",
     "output_type": "stream",
     "text": [
      "MiniBatchKMeans : fowlkes_mallows_score = 0.314, v_measure_score = 0.822\n",
      "MeanShift : fowlkes_mallows_score = 0.686, v_measure_score = 0.927\n",
      "Birch : fowlkes_mallows_score = 0.538, v_measure_score = 0.892\n",
      "GaussianMixture : fowlkes_mallows_score = 0.357, v_measure_score = 0.855\n"
     ]
    }
   ],
   "source": [
    "warnings.filterwarnings('ignore', category=UserWarning, append=True)\n",
    "for name, algorithm in clustering_algorithms:\n",
    "    y_pred = algorithm.fit_predict(train_X)\n",
    "    print(name+' : fowlkes_mallows_score = %.3f, v_measure_score = %.3f' % \n",
    "          (round(metrics.fowlkes_mallows_score(labels, y_pred),3), \n",
    "           round(metrics.v_measure_score(labels, y_pred),3)))"
   ]
  },
  {
   "cell_type": "markdown",
   "metadata": {},
   "source": [
    "Так как при использовании всей таблицы алгоритмами DBSCAN и AgglomerativeClustering возникает Memory error, то разобьем наш датасет методом train_test_split на две части. Одну часть будем кластеризовать DBSCAN и AgglomerativeClustering и по получившимся кластерам классифицировать с помощью KNeighborsClassifier все галактики"
   ]
  },
  {
   "cell_type": "code",
   "execution_count": 5,
   "metadata": {},
   "outputs": [
    {
     "name": "stdout",
     "output_type": "stream",
     "text": [
      "dbscan : fowlkes_mallows_score = 0.917, v_measure_score = 0.927\n"
     ]
    }
   ],
   "source": [
    "dbscan = cluster.DBSCAN(eps=4.3)\n",
    "X_train, X_test, y_train, y_test = train_test_split(train_X, labels, test_size=0.8, random_state=42, shuffle=True) \n",
    "dbscan.fit(X_train)\n",
    "labels_1 = dbscan.labels_\n",
    "KN = KNeighborsClassifier(n_neighbors=3)\n",
    "KN.fit(X_train,labels_1)\n",
    "labels_pred = KN.predict(train_X)\n",
    "print('dbscan : fowlkes_mallows_score = %.3f, v_measure_score = %.3f' % \n",
    "          (round(metrics.fowlkes_mallows_score(labels, labels_pred),3), \n",
    "           round(metrics.v_measure_score(labels, labels_pred),3)))"
   ]
  },
  {
   "cell_type": "code",
   "execution_count": 6,
   "metadata": {},
   "outputs": [
    {
     "name": "stdout",
     "output_type": "stream",
     "text": [
      "single_linkage_AgglomerativeClustering : fowlkes_mallows_score = 0.939, v_measure_score = 0.947\n"
     ]
    }
   ],
   "source": [
    "single = cluster.AgglomerativeClustering(linkage=\"single\", affinity=\"cityblock\",n_clusters=107)\n",
    "X_train, X_test, y_train, y_test = train_test_split(train_X, labels, test_size=0.9, random_state=42, shuffle=True) \n",
    "single.fit(X_train)\n",
    "labels_1 = single.labels_\n",
    "KN = KNeighborsClassifier(n_neighbors=3)\n",
    "KN.fit(X_train,labels_1)\n",
    "y_pred = KN.predict(train_X)\n",
    "print('single linkage AgglomerativeClustering : fowlkes_mallows_score = %.3f, v_measure_score = %.3f' % \n",
    "          (round(metrics.fowlkes_mallows_score(labels, y_pred),3), \n",
    "           round(metrics.v_measure_score(labels, y_pred),3)))"
   ]
  },
  {
   "cell_type": "markdown",
   "metadata": {},
   "source": [
    "При использовании в качестве параметров только прямое восхождение и склонение "
   ]
  },
  {
   "cell_type": "code",
   "execution_count": 7,
   "metadata": {},
   "outputs": [],
   "source": [
    "train_X = train[['ra','dec']]"
   ]
  },
  {
   "cell_type": "code",
   "execution_count": 8,
   "metadata": {},
   "outputs": [],
   "source": [
    "bandwidth = cluster.estimate_bandwidth(train_X,quantile=0.006)\n",
    "ms = cluster.MeanShift(bandwidth=bandwidth, bin_seeding=True)\n",
    "two_means = cluster.MiniBatchKMeans(n_clusters=107)\n",
    "birch = cluster.Birch(n_clusters=107)\n",
    "gmm = mixture.GaussianMixture(n_components=107, covariance_type='full')\n",
    "clustering_algorithms = (\n",
    "        ('MiniBatchKMeans', two_means),\n",
    "        ('MeanShift', ms),\n",
    "        ('Birch', birch),\n",
    "        ('GaussianMixture', gmm)\n",
    "    )"
   ]
  },
  {
   "cell_type": "code",
   "execution_count": 9,
   "metadata": {},
   "outputs": [
    {
     "name": "stdout",
     "output_type": "stream",
     "text": [
      "MiniBatchKMeans : fowlkes_mallows_score = 0.308, v_measure_score = 0.825\n",
      "MeanShift : fowlkes_mallows_score = 0.606, v_measure_score = 0.916\n",
      "Birch : fowlkes_mallows_score = 0.396, v_measure_score = 0.872\n",
      "GaussianMixture : fowlkes_mallows_score = 0.366, v_measure_score = 0.862\n"
     ]
    }
   ],
   "source": [
    "warnings.filterwarnings('ignore', category=UserWarning, append=True)\n",
    "for name, algorithm in clustering_algorithms:\n",
    "    y_pred = algorithm.fit_predict(train_X)\n",
    "    print(name+' : fowlkes_mallows_score = %.3f, v_measure_score = %.3f' % \n",
    "          (round(metrics.fowlkes_mallows_score(labels, y_pred),3), \n",
    "           round(metrics.v_measure_score(labels, y_pred),3)))"
   ]
  },
  {
   "cell_type": "code",
   "execution_count": 10,
   "metadata": {},
   "outputs": [
    {
     "name": "stdout",
     "output_type": "stream",
     "text": [
      "dbscan : fowlkes_mallows_score = 0.917, v_measure_score = 0.927\n"
     ]
    }
   ],
   "source": [
    "dbscan = cluster.DBSCAN(eps=4.3)\n",
    "X_train, X_test, y_train, y_test = train_test_split(train_X, labels, test_size=0.8, random_state=42, shuffle=True) \n",
    "dbscan.fit(X_train)\n",
    "labels_1 = dbscan.labels_\n",
    "KN = KNeighborsClassifier(n_neighbors=3)\n",
    "KN.fit(X_train,labels_1)\n",
    "labels_pred = KN.predict(train_X)\n",
    "print('dbscan : fowlkes_mallows_score = %.3f, v_measure_score = %.3f' % \n",
    "          (round(metrics.fowlkes_mallows_score(labels, labels_pred),3), \n",
    "           round(metrics.v_measure_score(labels, labels_pred),3)))"
   ]
  },
  {
   "cell_type": "code",
   "execution_count": 11,
   "metadata": {},
   "outputs": [
    {
     "name": "stdout",
     "output_type": "stream",
     "text": [
      "single_linkage_AgglomerativeClustering : fowlkes_mallows_score = 0.978, v_measure_score = 0.990\n"
     ]
    }
   ],
   "source": [
    "single = cluster.AgglomerativeClustering(linkage=\"single\", affinity=\"cityblock\",n_clusters=107)\n",
    "X_train, X_test, y_train, y_test = train_test_split(train_X, labels, test_size=0.9, random_state=42, shuffle=True) \n",
    "single.fit(X_train)\n",
    "labels_1 = single.labels_\n",
    "KN = KNeighborsClassifier(n_neighbors=3)\n",
    "KN.fit(X_train,labels_1)\n",
    "y_pred = KN.predict(train_X)\n",
    "print('single_linkage_AgglomerativeClustering : fowlkes_mallows_score = %.3f, v_measure_score = %.3f' % \n",
    "          (round(metrics.fowlkes_mallows_score(labels, y_pred),3), \n",
    "           round(metrics.v_measure_score(labels, y_pred),3)))"
   ]
  },
  {
   "cell_type": "code",
   "execution_count": 12,
   "metadata": {},
   "outputs": [],
   "source": []
  },
  {
   "cell_type": "code",
   "execution_count": 12,
   "metadata": {},
   "outputs": [],
   "source": []
  },
  {
   "cell_type": "code",
   "execution_count": null,
   "metadata": {},
   "outputs": [],
   "source": []
  },
  {
   "cell_type": "code",
   "execution_count": null,
   "metadata": {},
   "outputs": [],
   "source": []
  },
  {
   "cell_type": "code",
   "execution_count": null,
   "metadata": {},
   "outputs": [],
   "source": []
  },
  {
   "cell_type": "code",
   "execution_count": null,
   "metadata": {},
   "outputs": [],
   "source": []
  },
  {
   "cell_type": "code",
   "execution_count": null,
   "metadata": {},
   "outputs": [],
   "source": []
  },
  {
   "cell_type": "code",
   "execution_count": null,
   "metadata": {},
   "outputs": [],
   "source": []
  },
  {
   "cell_type": "code",
   "execution_count": null,
   "metadata": {},
   "outputs": [],
   "source": []
  }
 ],
 "metadata": {
  "kernelspec": {
   "display_name": "Python 3",
   "language": "python",
   "name": "python3"
  },
  "language_info": {
   "codemirror_mode": {
    "name": "ipython",
    "version": 3
   },
   "file_extension": ".py",
   "mimetype": "text/x-python",
   "name": "python",
   "nbconvert_exporter": "python",
   "pygments_lexer": "ipython3",
   "version": "3.7.1"
  }
 },
 "nbformat": 4,
 "nbformat_minor": 1
}
