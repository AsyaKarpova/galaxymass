{
 "cells": [
  {
   "cell_type": "code",
   "execution_count": 2,
   "metadata": {},
   "outputs": [],
   "source": [
    "import numpy as np\n",
    "import pandas as pd\n",
    "import matplotlib.pyplot as plt\n",
    "from skopt import gp_minimize\n",
    "from astropy.coordinates import SkyCoord\n",
    "from astropy import units as u\n",
    "import os\n",
    "from astropy.cosmology import default_cosmology\n",
    "from astropy import units as u\n",
    "from astropy.coordinates import SkyCoord, Distance\n",
    "from astropy.cosmology import Planck15\n",
    "from astropy.cosmology import WMAP5, WMAP7\n",
    "from sklearn import cluster, mixture, metrics\n",
    "from sklearn.neighbors import kneighbors_graph\n",
    "import warnings"
   ]
  },
  {
   "cell_type": "markdown",
   "metadata": {},
   "source": [
    "Загружаем файл с галактиками из скоплений с N_tot>70, для которых есть фотометрические данные и красные смещения"
   ]
  },
  {
   "cell_type": "code",
   "execution_count": 3,
   "metadata": {},
   "outputs": [],
   "source": [
    "path = './'\n",
    "df= pd.read_csv(path+'list_z_photo.csv')"
   ]
  },
  {
   "cell_type": "code",
   "execution_count": 4,
   "metadata": {},
   "outputs": [
    {
     "data": {
      "text/html": [
       "<div>\n",
       "<style scoped>\n",
       "    .dataframe tbody tr th:only-of-type {\n",
       "        vertical-align: middle;\n",
       "    }\n",
       "\n",
       "    .dataframe tbody tr th {\n",
       "        vertical-align: top;\n",
       "    }\n",
       "\n",
       "    .dataframe thead th {\n",
       "        text-align: right;\n",
       "    }\n",
       "</style>\n",
       "<table border=\"1\" class=\"dataframe\">\n",
       "  <thead>\n",
       "    <tr style=\"text-align: right;\">\n",
       "      <th></th>\n",
       "      <th>Name</th>\n",
       "      <th>ra</th>\n",
       "      <th>dec</th>\n",
       "      <th>z_gal</th>\n",
       "      <th>|dered_g-dered_r|</th>\n",
       "      <th>iGrID</th>\n",
       "    </tr>\n",
       "  </thead>\n",
       "  <tbody>\n",
       "    <tr>\n",
       "      <th>0</th>\n",
       "      <td>1237650370488762520</td>\n",
       "      <td>195.544557</td>\n",
       "      <td>-2.495210</td>\n",
       "      <td>0.087696</td>\n",
       "      <td>0.88330</td>\n",
       "      <td>211</td>\n",
       "    </tr>\n",
       "    <tr>\n",
       "      <th>1</th>\n",
       "      <td>1237650370488828045</td>\n",
       "      <td>195.704581</td>\n",
       "      <td>-2.510970</td>\n",
       "      <td>0.086480</td>\n",
       "      <td>0.89793</td>\n",
       "      <td>211</td>\n",
       "    </tr>\n",
       "    <tr>\n",
       "      <th>2</th>\n",
       "      <td>1237650370488762557</td>\n",
       "      <td>195.589523</td>\n",
       "      <td>-2.501693</td>\n",
       "      <td>0.080822</td>\n",
       "      <td>0.88170</td>\n",
       "      <td>211</td>\n",
       "    </tr>\n",
       "    <tr>\n",
       "      <th>3</th>\n",
       "      <td>1237650370488762524</td>\n",
       "      <td>195.547180</td>\n",
       "      <td>-2.526123</td>\n",
       "      <td>0.085518</td>\n",
       "      <td>0.59039</td>\n",
       "      <td>211</td>\n",
       "    </tr>\n",
       "    <tr>\n",
       "      <th>4</th>\n",
       "      <td>1237650370488828042</td>\n",
       "      <td>195.720356</td>\n",
       "      <td>-2.520542</td>\n",
       "      <td>0.082964</td>\n",
       "      <td>0.91098</td>\n",
       "      <td>211</td>\n",
       "    </tr>\n",
       "  </tbody>\n",
       "</table>\n",
       "</div>"
      ],
      "text/plain": [
       "                  Name          ra       dec     z_gal  |dered_g-dered_r|  \\\n",
       "0  1237650370488762520  195.544557 -2.495210  0.087696            0.88330   \n",
       "1  1237650370488828045  195.704581 -2.510970  0.086480            0.89793   \n",
       "2  1237650370488762557  195.589523 -2.501693  0.080822            0.88170   \n",
       "3  1237650370488762524  195.547180 -2.526123  0.085518            0.59039   \n",
       "4  1237650370488828042  195.720356 -2.520542  0.082964            0.91098   \n",
       "\n",
       "   iGrID  \n",
       "0    211  \n",
       "1    211  \n",
       "2    211  \n",
       "3    211  \n",
       "4    211  "
      ]
     },
     "execution_count": 4,
     "metadata": {},
     "output_type": "execute_result"
    }
   ],
   "source": [
    "df.head()"
   ]
  },
  {
   "cell_type": "markdown",
   "metadata": {},
   "source": [
    "Создадим колонку с переведенными в мегапарсеки красными смещениями"
   ]
  },
  {
   "cell_type": "code",
   "execution_count": 5,
   "metadata": {},
   "outputs": [],
   "source": [
    "df['z_Mpc']=Distance(unit=u.Mpc, z = df['z_gal'], cosmology = WMAP7)"
   ]
  },
  {
   "cell_type": "code",
   "execution_count": 6,
   "metadata": {},
   "outputs": [
    {
     "data": {
      "text/html": [
       "<div>\n",
       "<style scoped>\n",
       "    .dataframe tbody tr th:only-of-type {\n",
       "        vertical-align: middle;\n",
       "    }\n",
       "\n",
       "    .dataframe tbody tr th {\n",
       "        vertical-align: top;\n",
       "    }\n",
       "\n",
       "    .dataframe thead th {\n",
       "        text-align: right;\n",
       "    }\n",
       "</style>\n",
       "<table border=\"1\" class=\"dataframe\">\n",
       "  <thead>\n",
       "    <tr style=\"text-align: right;\">\n",
       "      <th></th>\n",
       "      <th>Name</th>\n",
       "      <th>ra</th>\n",
       "      <th>dec</th>\n",
       "      <th>z_gal</th>\n",
       "      <th>|dered_g-dered_r|</th>\n",
       "      <th>iGrID</th>\n",
       "      <th>z_Mpc</th>\n",
       "    </tr>\n",
       "  </thead>\n",
       "  <tbody>\n",
       "    <tr>\n",
       "      <th>0</th>\n",
       "      <td>1237650370488762520</td>\n",
       "      <td>195.544557</td>\n",
       "      <td>-2.495210</td>\n",
       "      <td>0.087696</td>\n",
       "      <td>0.88330</td>\n",
       "      <td>211</td>\n",
       "      <td>398.771958</td>\n",
       "    </tr>\n",
       "    <tr>\n",
       "      <th>1</th>\n",
       "      <td>1237650370488828045</td>\n",
       "      <td>195.704581</td>\n",
       "      <td>-2.510970</td>\n",
       "      <td>0.086480</td>\n",
       "      <td>0.89793</td>\n",
       "      <td>211</td>\n",
       "      <td>392.908529</td>\n",
       "    </tr>\n",
       "    <tr>\n",
       "      <th>2</th>\n",
       "      <td>1237650370488762557</td>\n",
       "      <td>195.589523</td>\n",
       "      <td>-2.501693</td>\n",
       "      <td>0.080822</td>\n",
       "      <td>0.88170</td>\n",
       "      <td>211</td>\n",
       "      <td>365.737425</td>\n",
       "    </tr>\n",
       "    <tr>\n",
       "      <th>3</th>\n",
       "      <td>1237650370488762524</td>\n",
       "      <td>195.547180</td>\n",
       "      <td>-2.526123</td>\n",
       "      <td>0.085518</td>\n",
       "      <td>0.59039</td>\n",
       "      <td>211</td>\n",
       "      <td>388.273498</td>\n",
       "    </tr>\n",
       "    <tr>\n",
       "      <th>4</th>\n",
       "      <td>1237650370488828042</td>\n",
       "      <td>195.720356</td>\n",
       "      <td>-2.520542</td>\n",
       "      <td>0.082964</td>\n",
       "      <td>0.91098</td>\n",
       "      <td>211</td>\n",
       "      <td>376.000434</td>\n",
       "    </tr>\n",
       "  </tbody>\n",
       "</table>\n",
       "</div>"
      ],
      "text/plain": [
       "                  Name          ra       dec     z_gal  |dered_g-dered_r|  \\\n",
       "0  1237650370488762520  195.544557 -2.495210  0.087696            0.88330   \n",
       "1  1237650370488828045  195.704581 -2.510970  0.086480            0.89793   \n",
       "2  1237650370488762557  195.589523 -2.501693  0.080822            0.88170   \n",
       "3  1237650370488762524  195.547180 -2.526123  0.085518            0.59039   \n",
       "4  1237650370488828042  195.720356 -2.520542  0.082964            0.91098   \n",
       "\n",
       "   iGrID       z_Mpc  \n",
       "0    211  398.771958  \n",
       "1    211  392.908529  \n",
       "2    211  365.737425  \n",
       "3    211  388.273498  \n",
       "4    211  376.000434  "
      ]
     },
     "execution_count": 6,
     "metadata": {},
     "output_type": "execute_result"
    }
   ],
   "source": [
    "df.head()"
   ]
  },
  {
   "cell_type": "code",
   "execution_count": 7,
   "metadata": {},
   "outputs": [],
   "source": [
    "train = df[['ra','dec', 'z_Mpc','|dered_g-dered_r|']]"
   ]
  },
  {
   "cell_type": "code",
   "execution_count": 8,
   "metadata": {},
   "outputs": [],
   "source": [
    "bandwidth =  cluster.estimate_bandwidth(train, quantile=0.006)\n",
    "connectivity = kneighbors_graph(train, n_neighbors=9, include_self=False)\n",
    "connectivity = 0.5 * (connectivity + connectivity.T)\n",
    "ms = cluster.MeanShift(bandwidth=bandwidth, bin_seeding=True)\n",
    "k_means = cluster.MiniBatchKMeans(n_clusters=107)\n",
    "dbscan = cluster.DBSCAN(eps=4.3)\n",
    "affinity_propagation = cluster.AffinityPropagation(damping=0.7)\n",
    "ward = cluster.AgglomerativeClustering(n_clusters=107, linkage='ward', connectivity=connectivity)\n",
    "average_linkage = cluster.AgglomerativeClustering(linkage=\"average\", affinity=\"cityblock\",\n",
    "        n_clusters=107, connectivity=connectivity)\n",
    "single_linkage = cluster.AgglomerativeClustering(linkage=\"single\", affinity=\"cityblock\",\n",
    "        n_clusters=107, connectivity=connectivity)\n",
    "birch = cluster.Birch(n_clusters=107)\n",
    "gmm = mixture.GaussianMixture(n_components=107, covariance_type='full')\n",
    "clustering_algorithms = (\n",
    "        ('MiniBatchKMeans', k_means),\n",
    "        ('AffinityPropagation', affinity_propagation),\n",
    "        ('MeanShift', ms),\n",
    "        ('Ward', ward),\n",
    "        ('AgglomerativeClustering_average', average_linkage),\n",
    "        ('AgglomerativeClustering_single', single_linkage),\n",
    "        ('DBSCAN', dbscan),\n",
    "        ('Birch', birch),\n",
    "        ('GaussianMixture', gmm)\n",
    "    )"
   ]
  },
  {
   "cell_type": "code",
   "execution_count": 9,
   "metadata": {},
   "outputs": [
    {
     "name": "stdout",
     "output_type": "stream",
     "text": [
      "MiniBatchKMeans : fowlkes_mallows_score = 0.505, v_measure_score = 0.842\n",
      "AffinityPropagation : fowlkes_mallows_score = 0.446, v_measure_score = 0.809\n",
      "MeanShift : fowlkes_mallows_score = 0.612, v_measure_score = 0.862\n",
      "Ward : fowlkes_mallows_score = 0.581, v_measure_score = 0.881\n",
      "AgglomerativeClustering_average : fowlkes_mallows_score = 0.716, v_measure_score = 0.911\n",
      "AgglomerativeClustering_single : fowlkes_mallows_score = 0.774, v_measure_score = 0.932\n",
      "DBSCAN : fowlkes_mallows_score = 0.801, v_measure_score = 0.932\n",
      "Birch : fowlkes_mallows_score = 0.481, v_measure_score = 0.836\n",
      "GaussianMixture : fowlkes_mallows_score = 0.712, v_measure_score = 0.930\n"
     ]
    }
   ],
   "source": [
    "warnings.filterwarnings('ignore', category=UserWarning, append=True)\n",
    "for name, algorithm in clustering_algorithms:\n",
    "    y_pred = algorithm.fit_predict(train)\n",
    "    print(name+' : fowlkes_mallows_score = %.3f, v_measure_score = %.3f' % \n",
    "          (round(metrics.fowlkes_mallows_score(df.iGrID, y_pred),3), \n",
    "           round(metrics.v_measure_score(df.iGrID, y_pred),3)))"
   ]
  },
  {
   "cell_type": "code",
   "execution_count": null,
   "metadata": {},
   "outputs": [],
   "source": []
  },
  {
   "cell_type": "code",
   "execution_count": 25,
   "metadata": {},
   "outputs": [],
   "source": []
  },
  {
   "cell_type": "code",
   "execution_count": 10,
   "metadata": {},
   "outputs": [],
   "source": []
  },
  {
   "cell_type": "code",
   "execution_count": 11,
   "metadata": {},
   "outputs": [],
   "source": []
  },
  {
   "cell_type": "code",
   "execution_count": null,
   "metadata": {},
   "outputs": [],
   "source": []
  },
  {
   "cell_type": "code",
   "execution_count": null,
   "metadata": {},
   "outputs": [],
   "source": []
  },
  {
   "cell_type": "code",
   "execution_count": 43,
   "metadata": {},
   "outputs": [],
   "source": []
  },
  {
   "cell_type": "code",
   "execution_count": null,
   "metadata": {},
   "outputs": [],
   "source": []
  },
  {
   "cell_type": "code",
   "execution_count": 14,
   "metadata": {},
   "outputs": [],
   "source": []
  },
  {
   "cell_type": "code",
   "execution_count": 18,
   "metadata": {},
   "outputs": [],
   "source": []
  },
  {
   "cell_type": "code",
   "execution_count": null,
   "metadata": {},
   "outputs": [],
   "source": []
  },
  {
   "cell_type": "code",
   "execution_count": null,
   "metadata": {},
   "outputs": [],
   "source": []
  },
  {
   "cell_type": "code",
   "execution_count": null,
   "metadata": {},
   "outputs": [],
   "source": []
  }
 ],
 "metadata": {
  "kernelspec": {
   "display_name": "Python 3",
   "language": "python",
   "name": "python3"
  },
  "language_info": {
   "codemirror_mode": {
    "name": "ipython",
    "version": 3
   },
   "file_extension": ".py",
   "mimetype": "text/x-python",
   "name": "python",
   "nbconvert_exporter": "python",
   "pygments_lexer": "ipython3",
   "version": "3.7.1"
  }
 },
 "nbformat": 4,
 "nbformat_minor": 2
}
