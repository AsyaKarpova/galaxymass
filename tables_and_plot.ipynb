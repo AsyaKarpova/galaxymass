{
 "cells": [
  {
   "cell_type": "code",
   "execution_count": 6,
   "metadata": {},
   "outputs": [],
   "source": [
    "import numpy as np\n",
    "import pandas as pd\n",
    "import matplotlib.pyplot as plt\n",
    "from skopt import gp_minimize\n",
    "from astropy.coordinates import SkyCoord\n",
    "from astropy import units as u"
   ]
  },
  {
   "cell_type": "markdown",
   "metadata": {},
   "source": [
    "Загружаем таблицы, скачанные с [каталога](http://vizier.cfa.harvard.edu/viz-bin/VizieR?-source=J/A+A/596/A14)"
   ]
  },
  {
   "cell_type": "code",
   "execution_count": 8,
   "metadata": {},
   "outputs": [],
   "source": [
    "gr_s = pd.read_csv('./grlist_s.csv') #List of groups and their parameters detected in SDSS DR12\n",
    "gr_2 = pd.read_csv('./grlist_2.csv') #List of groups and their parameters detected in 2MRS\n",
    "ga_s = pd.read_csv('./galist_s.csv') #List of SDSS galaxies used, as well as their IDs and coordinates\n",
    "ga_2 = pd.read_csv('./galist_2.csv') #List of 2MRS galaxies used, as well as their IDs and coordinates"
   ]
  },
  {
   "cell_type": "markdown",
   "metadata": {},
   "source": [
    "Сортируем по iGrID"
   ]
  },
  {
   "cell_type": "code",
   "execution_count": 9,
   "metadata": {},
   "outputs": [],
   "source": [
    "gr_s= gr_s.sort_values(by = 'iGrID')\n",
    "gr_2= gr_2.sort_values(by = 'iGrID')\n",
    "ga_s= ga_s.sort_values(by = 'iGrID')\n",
    "ga_2= ga_2.sort_values(by = 'iGrID')"
   ]
  },
  {
   "cell_type": "markdown",
   "metadata": {},
   "source": [
    "Оставляем группы, у которых количество галактик больше 30"
   ]
  },
  {
   "cell_type": "code",
   "execution_count": 10,
   "metadata": {},
   "outputs": [],
   "source": [
    "gr_s = gr_s[gr_s.Ntot>30]\n",
    "ga_s = ga_s.loc[ga_s['iGrID'].isin(gr_s.iGrID)]\n",
    "gr_2 = gr_2[gr_2.Ntot>30]\n",
    "ga_2 = ga_2.loc[ga_2['iGrID'].isin(gr_2.iGrID)]"
   ]
  },
  {
   "cell_type": "markdown",
   "metadata": {},
   "source": [
    "Объединяем таблицы групп и галактик для 2MRS и SDSS. К таблицам с галактиками добавляем колонки из таблиц для групп галактик. "
   ]
  },
  {
   "cell_type": "code",
   "execution_count": 12,
   "metadata": {},
   "outputs": [],
   "source": [
    "g_list_2 = pd.merge(ga_2, gr_2, on='iGrID', how='left',suffixes=('_gal','_group')) # 2MRS\n",
    "g_list_s = pd.merge(ga_s, gr_s, on='iGrID', how='left',suffixes=('_gal','_group')) # SDSS\n",
    "g_list_s = g_list_s.drop(['Dist_gal','Dist_group'], axis=1)"
   ]
  },
  {
   "cell_type": "code",
   "execution_count": 14,
   "metadata": {},
   "outputs": [],
   "source": [
    "#g_list_2.to_csv(path_or_buf='glist_2.csv', index=False)\n",
    "#g_list_s.to_csv(path_or_buf='glist_s.csv', index=False)"
   ]
  },
  {
   "cell_type": "markdown",
   "metadata": {},
   "source": [
    "Напишем функцию для построения scatter plot для групп галактик по \n",
    " OX: угловое расстояние от галактики до центра группы,\n",
    " OY: разница между красным смещением галактики и красным смещением центра"
   ]
  },
  {
   "cell_type": "code",
   "execution_count": 18,
   "metadata": {},
   "outputs": [],
   "source": [
    "def retrieve_name(x, Vars=vars()):\n",
    "    for k in Vars:\n",
    "        if type(x) == type(Vars[k]):\n",
    "            if x is Vars[k]:\n",
    "                return k\n",
    "    return None\n",
    "\n",
    "def plot_z_sep(number_iGrID, g_list):\n",
    "    # берем группу из g_list с iGrID=number_iGrID\n",
    "    example = g_list[g_list.iGrID==number_iGrID]\n",
    "    # находим угловое расстояние между каждой галактикой в группе до центра группы\n",
    "    ra_gal = list(example.RAJ2000_gal)\n",
    "    dec_gal = list(example.DEJ2000_gal)\n",
    "    ra_gr = list(example.RAJ2000_group)\n",
    "    dec_gr = list(example.DEJ2000_group)\n",
    "    c1 = SkyCoord(ra_gal,dec_gal, unit='deg',frame='icrs')\n",
    "    c2 = SkyCoord(ra_gr, dec_gr, unit='deg', frame='icrs')\n",
    "    sep = c1.separation(c2)\n",
    "    sep = sep.deg\n",
    "    # находим разницу между красным смещением галактик и красным смещением центра\n",
    "    z_gal = np.array(example.z_gal)\n",
    "    z_gr = np.array(example.z_group)\n",
    "    z_dif = z_gal - z_gr\n",
    "    # рисуем график\n",
    "    fig, ax = plt.subplots()\n",
    "    plt.scatter(sep, z_dif, s=15.15, color='black', marker='o')\n",
    "    plt.xlabel('distance from center in degrees')\n",
    "    plt.ylabel('z_gal - z_group')\n",
    "    y_lim = np.max(abs(z_dif))*1.3\n",
    "    plt.ylim([-y_lim, y_lim])\n",
    "    plt.title(retrieve_name(g_list)+', iGrID = '+str(number_iGrID))\n",
    "    plt.tight_layout()\n",
    "    #plt.savefig(retrieve_name(g_list)+', iGrID = '+str(number_iGrID)+'.png', dpi=1000)\n",
    "    plt.show()"
   ]
  },
  {
   "cell_type": "code",
   "execution_count": 19,
   "metadata": {},
   "outputs": [
    {
     "data": {
      "image/png": "[encoded data removed]",
      "text/plain": [
       "<Figure size 432x288 with 1 Axes>"
      ]
     },
     "metadata": {
      "needs_background": "light"
     },
     "output_type": "display_data"
    }
   ],
   "source": [
    "plot_z_sep(10, g_list_2)"
   ]
  },
  {
   "cell_type": "code",
   "execution_count": null,
   "metadata": {},
   "outputs": [],
   "source": []
  },
  {
   "cell_type": "code",
   "execution_count": null,
   "metadata": {},
   "outputs": [],
   "source": []
  },
  {
   "cell_type": "code",
   "execution_count": 167,
   "metadata": {},
   "outputs": [],
   "source": []
  },
  {
   "cell_type": "code",
   "execution_count": null,
   "metadata": {},
   "outputs": [],
   "source": []
  },
  {
   "cell_type": "code",
   "execution_count": null,
   "metadata": {},
   "outputs": [],
   "source": []
  },
  {
   "cell_type": "code",
   "execution_count": 47,
   "metadata": {},
   "outputs": [],
   "source": []
  },
  {
   "cell_type": "code",
   "execution_count": 54,
   "metadata": {},
   "outputs": [],
   "source": []
  },
  {
   "cell_type": "code",
   "execution_count": null,
   "metadata": {},
   "outputs": [],
   "source": []
  },
  {
   "cell_type": "code",
   "execution_count": null,
   "metadata": {},
   "outputs": [],
   "source": []
  },
  {
   "cell_type": "code",
   "execution_count": null,
   "metadata": {},
   "outputs": [],
   "source": []
  }
 ],
 "metadata": {
  "kernelspec": {
   "display_name": "Python 3",
   "language": "python",
   "name": "python3"
  },
  "language_info": {
   "codemirror_mode": {
    "name": "ipython",
    "version": 3
   },
   "file_extension": ".py",
   "mimetype": "text/x-python",
   "name": "python",
   "nbconvert_exporter": "python",
   "pygments_lexer": "ipython3",
   "version": "3.7.1"
  }
 },
 "nbformat": 4,
 "nbformat_minor": 2
}
